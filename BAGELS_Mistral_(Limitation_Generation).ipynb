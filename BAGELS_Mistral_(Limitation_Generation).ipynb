{
  "nbformat": 4,
  "nbformat_minor": 0,
  "metadata": {
    "colab": {
      "provenance": []
    },
    "kernelspec": {
      "name": "python3",
      "display_name": "Python 3"
    },
    "language_info": {
      "name": "python"
    }
  },
  "cells": [
    {
      "cell_type": "markdown",
      "source": [
        "All sections"
      ],
      "metadata": {
        "id": "6XaghgRWKaAF"
      }
    },
    {
      "cell_type": "code",
      "execution_count": null,
      "metadata": {
        "id": "OITfU7dNKThH"
      },
      "outputs": [],
      "source": [
        "df['response_string'] = df.apply(lambda row: f\"\"\"Abstract: {row['Abstract']}\n",
        "Introduction: {row['Introduction']}\n",
        "Related_Work: {row['Related_Work']}\n",
        "Methodology: {row['Methodology']}\n",
        "Dataset: {row['Dataset']}\n",
        "Experiment_and_Results: {row['Experiment_and_Results']}\n",
        "Conclusion: {row['Conclusion']}\n",
        "\"\"\", axis=1)"
      ]
    },
    {
      "cell_type": "code",
      "source": [
        "import ollama\n",
        "from langchain_community.llms import Ollama\n",
        "\n",
        "# Initialize a list to store generated limitations\n",
        "generated_limitations = []\n",
        "\n",
        "# Assuming `df` is your DataFrame containing the data\n",
        "for i in range(len(df)): # (len(df)\n",
        "    # Construct the prompt for generating limitations\n",
        "    prompt = f\"\"\"\n",
        "    You are a helpful, respectful, and honest assistant for generating limitations or shortcomings of a research paper.\n",
        "    I am providing 'Abstract', 'Introduction', 'Related Work', 'Methodology', 'Dataset', 'Experiment_and_Results' and\n",
        "    'Conclusion' of a scientific paper.\n",
        "    Generate limitations or shortcomings based on these texts. \\n{df['response_string'][i]}\n",
        "    \"\"\"\n",
        "\n",
        "    # Initialize an empty string to collect the limitation text\n",
        "    limitation_text = \"\"\n",
        "    llm = Ollama(model = \"mistral\")\n",
        "    a = llm.invoke(prompt)\n",
        "    generated_limitations.append(a)\n"
      ],
      "metadata": {
        "id": "pPL2sP9lKbzh"
      },
      "execution_count": null,
      "outputs": []
    },
    {
      "cell_type": "markdown",
      "source": [
        "3 Sections"
      ],
      "metadata": {
        "id": "vyMaPJpMLuZH"
      }
    },
    {
      "cell_type": "code",
      "source": [
        "df['response_string_imp'] = df.apply(lambda row: f\"\"\"Abstract: {row['Abstract']}\n",
        "Introduction: {row['Introduction']}\n",
        "Experiment_and_Results: {row['Experiment_and_Results']}\n",
        "Conclusion: {row['Conclusion']}\n",
        "\"\"\", axis=1)"
      ],
      "metadata": {
        "id": "6DlTyeq1LuOn"
      },
      "execution_count": null,
      "outputs": []
    },
    {
      "cell_type": "code",
      "source": [
        "import ollama\n",
        "from langchain_community.llms import Ollama\n",
        "\n",
        "# Initialize a list to store generated limitations\n",
        "generated_limitations_imp_sec = []\n",
        "\n",
        "# Assuming `df` is your DataFrame containing the data\n",
        "for i in range(len(df)): # (len(df)\n",
        "    # Construct the prompt for generating limitations\n",
        "    prompt = f\"\"\"\n",
        "    You are a helpful, respectful, and honest assistant for generating limitations or shortcomings of a research paper.\n",
        "    I am providing 'Abstract', 'Introduction','Experiment_and_Results' and\n",
        "    'Conclusion' of a scientific paper.\n",
        "    Generate limitations based on these texts. \\n{df['response_string_imp'][i]}\n",
        "    \"\"\"\n",
        "\n",
        "    # Initialize an empty string to collect the limitation text\n",
        "    limitation_text = \"\"\n",
        "    llm = Ollama(model = \"mistral\")\n",
        "    a = llm.invoke(prompt)\n",
        "\n",
        "    generated_limitations_imp_sec.append(a)\n"
      ],
      "metadata": {
        "id": "8C585TS9LuDx"
      },
      "execution_count": null,
      "outputs": []
    }
  ]
}